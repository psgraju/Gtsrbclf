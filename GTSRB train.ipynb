{
 "cells": [
  {
   "cell_type": "code",
   "execution_count": 1,
   "id": "9ea5974c",
   "metadata": {},
   "outputs": [
    {
     "name": "stderr",
     "output_type": "stream",
     "text": [
      "2023-01-16 01:16:49.158053: I tensorflow/stream_executor/platform/default/dso_loader.cc:49] Successfully opened dynamic library libcudart.so.10.1\n"
     ]
    }
   ],
   "source": [
    "import tensorflow as tf"
   ]
  },
  {
   "cell_type": "code",
   "execution_count": 2,
   "id": "3feaa5eb",
   "metadata": {},
   "outputs": [
    {
     "data": {
      "text/plain": [
       "<module 'tensorflow._api.v2.version' from '/home/satya/anaconda3/envs/gtsrb1/lib/python3.9/site-packages/tensorflow/_api/v2/version/__init__.py'>"
      ]
     },
     "execution_count": 2,
     "metadata": {},
     "output_type": "execute_result"
    }
   ],
   "source": [
    "tf.version"
   ]
  },
  {
   "cell_type": "code",
   "execution_count": 3,
   "id": "6f1e74a5",
   "metadata": {},
   "outputs": [
    {
     "name": "stderr",
     "output_type": "stream",
     "text": [
      "2023-01-16 01:16:49.902184: I tensorflow/compiler/jit/xla_cpu_device.cc:41] Not creating XLA devices, tf_xla_enable_xla_devices not set\n"
     ]
    },
    {
     "data": {
      "text/plain": [
       "[PhysicalDevice(name='/physical_device:GPU:0', device_type='GPU')]"
      ]
     },
     "execution_count": 3,
     "metadata": {},
     "output_type": "execute_result"
    },
    {
     "name": "stderr",
     "output_type": "stream",
     "text": [
      "2023-01-16 01:16:49.902818: I tensorflow/stream_executor/platform/default/dso_loader.cc:49] Successfully opened dynamic library libcuda.so.1\n",
      "2023-01-16 01:16:49.975142: I tensorflow/stream_executor/cuda/cuda_gpu_executor.cc:941] successful NUMA node read from SysFS had negative value (-1), but there must be at least one NUMA node, so returning NUMA node zero\n",
      "2023-01-16 01:16:49.975470: I tensorflow/core/common_runtime/gpu/gpu_device.cc:1720] Found device 0 with properties: \n",
      "pciBusID: 0000:01:00.0 name: NVIDIA GeForce RTX 2060 computeCapability: 7.5\n",
      "coreClock: 1.35GHz coreCount: 30 deviceMemorySize: 5.79GiB deviceMemoryBandwidth: 245.91GiB/s\n",
      "2023-01-16 01:16:49.975483: I tensorflow/stream_executor/platform/default/dso_loader.cc:49] Successfully opened dynamic library libcudart.so.10.1\n",
      "2023-01-16 01:16:49.976484: I tensorflow/stream_executor/platform/default/dso_loader.cc:49] Successfully opened dynamic library libcublas.so.10\n",
      "2023-01-16 01:16:49.976517: I tensorflow/stream_executor/platform/default/dso_loader.cc:49] Successfully opened dynamic library libcublasLt.so.10\n",
      "2023-01-16 01:16:49.977590: I tensorflow/stream_executor/platform/default/dso_loader.cc:49] Successfully opened dynamic library libcufft.so.10\n",
      "2023-01-16 01:16:49.977773: I tensorflow/stream_executor/platform/default/dso_loader.cc:49] Successfully opened dynamic library libcurand.so.10\n",
      "2023-01-16 01:16:49.978953: I tensorflow/stream_executor/platform/default/dso_loader.cc:49] Successfully opened dynamic library libcusolver.so.10\n",
      "2023-01-16 01:16:49.979591: I tensorflow/stream_executor/platform/default/dso_loader.cc:49] Successfully opened dynamic library libcusparse.so.10\n",
      "2023-01-16 01:16:49.981791: I tensorflow/stream_executor/platform/default/dso_loader.cc:49] Successfully opened dynamic library libcudnn.so.7\n",
      "2023-01-16 01:16:49.981936: I tensorflow/stream_executor/cuda/cuda_gpu_executor.cc:941] successful NUMA node read from SysFS had negative value (-1), but there must be at least one NUMA node, so returning NUMA node zero\n",
      "2023-01-16 01:16:49.982298: I tensorflow/stream_executor/cuda/cuda_gpu_executor.cc:941] successful NUMA node read from SysFS had negative value (-1), but there must be at least one NUMA node, so returning NUMA node zero\n",
      "2023-01-16 01:16:49.982599: I tensorflow/core/common_runtime/gpu/gpu_device.cc:1862] Adding visible gpu devices: 0\n"
     ]
    }
   ],
   "source": [
    "tf.config.list_physical_devices('GPU')\n"
   ]
  },
  {
   "cell_type": "code",
   "execution_count": 4,
   "id": "bc91284f",
   "metadata": {},
   "outputs": [
    {
     "name": "stderr",
     "output_type": "stream",
     "text": [
      "2023-01-16 01:16:49.988813: I tensorflow/core/platform/cpu_feature_guard.cc:142] This TensorFlow binary is optimized with oneAPI Deep Neural Network Library (oneDNN) to use the following CPU instructions in performance-critical operations:  SSE4.1 SSE4.2 AVX AVX2 FMA\n",
      "To enable them in other operations, rebuild TensorFlow with the appropriate compiler flags.\n",
      "2023-01-16 01:16:49.989702: I tensorflow/compiler/jit/xla_gpu_device.cc:99] Not creating XLA devices, tf_xla_enable_xla_devices not set\n",
      "2023-01-16 01:16:49.989850: I tensorflow/stream_executor/cuda/cuda_gpu_executor.cc:941] successful NUMA node read from SysFS had negative value (-1), but there must be at least one NUMA node, so returning NUMA node zero\n",
      "2023-01-16 01:16:49.990200: I tensorflow/core/common_runtime/gpu/gpu_device.cc:1720] Found device 0 with properties: \n",
      "pciBusID: 0000:01:00.0 name: NVIDIA GeForce RTX 2060 computeCapability: 7.5\n",
      "coreClock: 1.35GHz coreCount: 30 deviceMemorySize: 5.79GiB deviceMemoryBandwidth: 245.91GiB/s\n",
      "2023-01-16 01:16:49.990228: I tensorflow/stream_executor/platform/default/dso_loader.cc:49] Successfully opened dynamic library libcudart.so.10.1\n",
      "2023-01-16 01:16:49.990249: I tensorflow/stream_executor/platform/default/dso_loader.cc:49] Successfully opened dynamic library libcublas.so.10\n",
      "2023-01-16 01:16:49.990257: I tensorflow/stream_executor/platform/default/dso_loader.cc:49] Successfully opened dynamic library libcublasLt.so.10\n",
      "2023-01-16 01:16:49.990264: I tensorflow/stream_executor/platform/default/dso_loader.cc:49] Successfully opened dynamic library libcufft.so.10\n",
      "2023-01-16 01:16:49.990272: I tensorflow/stream_executor/platform/default/dso_loader.cc:49] Successfully opened dynamic library libcurand.so.10\n",
      "2023-01-16 01:16:49.990279: I tensorflow/stream_executor/platform/default/dso_loader.cc:49] Successfully opened dynamic library libcusolver.so.10\n",
      "2023-01-16 01:16:49.990286: I tensorflow/stream_executor/platform/default/dso_loader.cc:49] Successfully opened dynamic library libcusparse.so.10\n",
      "2023-01-16 01:16:49.990294: I tensorflow/stream_executor/platform/default/dso_loader.cc:49] Successfully opened dynamic library libcudnn.so.7\n",
      "2023-01-16 01:16:49.990347: I tensorflow/stream_executor/cuda/cuda_gpu_executor.cc:941] successful NUMA node read from SysFS had negative value (-1), but there must be at least one NUMA node, so returning NUMA node zero\n",
      "2023-01-16 01:16:49.990664: I tensorflow/stream_executor/cuda/cuda_gpu_executor.cc:941] successful NUMA node read from SysFS had negative value (-1), but there must be at least one NUMA node, so returning NUMA node zero\n",
      "2023-01-16 01:16:49.990932: I tensorflow/core/common_runtime/gpu/gpu_device.cc:1862] Adding visible gpu devices: 0\n",
      "2023-01-16 01:16:49.990955: I tensorflow/stream_executor/platform/default/dso_loader.cc:49] Successfully opened dynamic library libcudart.so.10.1\n",
      "2023-01-16 01:16:50.398044: I tensorflow/core/common_runtime/gpu/gpu_device.cc:1261] Device interconnect StreamExecutor with strength 1 edge matrix:\n",
      "2023-01-16 01:16:50.398072: I tensorflow/core/common_runtime/gpu/gpu_device.cc:1267]      0 \n",
      "2023-01-16 01:16:50.398077: I tensorflow/core/common_runtime/gpu/gpu_device.cc:1280] 0:   N \n",
      "2023-01-16 01:16:50.398258: I tensorflow/stream_executor/cuda/cuda_gpu_executor.cc:941] successful NUMA node read from SysFS had negative value (-1), but there mus"
     ]
    },
    {
     "name": "stdout",
     "output_type": "stream",
     "text": [
      "[name: \"/device:CPU:0\"\n",
      "device_type: \"CPU\"\n",
      "memory_limit: 268435456\n",
      "locality {\n",
      "}\n",
      "incarnation: 5167712960343260423\n",
      ", name: \"/device:GPU:0\"\n",
      "device_type: \"GPU\"\n",
      "memory_limit: 5618085408\n",
      "locality {\n",
      "  bus_id: 1\n",
      "  links {\n",
      "  }\n",
      "}\n",
      "incarnation: 4229156986076795815\n",
      "physical_device_desc: \"device: 0, name: NVIDIA GeForce RTX 2060, pci bus id: 0000:01:00.0, compute capability: 7.5\"\n",
      "]\n"
     ]
    },
    {
     "name": "stderr",
     "output_type": "stream",
     "text": [
      "t be at least one NUMA node, so returning NUMA node zero\n",
      "2023-01-16 01:16:50.398405: I tensorflow/stream_executor/cuda/cuda_gpu_executor.cc:941] successful NUMA node read from SysFS had negative value (-1), but there must be at least one NUMA node, so returning NUMA node zero\n",
      "2023-01-16 01:16:50.398544: I tensorflow/stream_executor/cuda/cuda_gpu_executor.cc:941] successful NUMA node read from SysFS had negative value (-1), but there must be at least one NUMA node, so returning NUMA node zero\n",
      "2023-01-16 01:16:50.398650: I tensorflow/core/common_runtime/gpu/gpu_device.cc:1406] Created TensorFlow device (/device:GPU:0 with 5357 MB memory) -> physical GPU (device: 0, name: NVIDIA GeForce RTX 2060, pci bus id: 0000:01:00.0, compute capability: 7.5)\n"
     ]
    }
   ],
   "source": [
    "from tensorflow.python.client import device_lib\n",
    "print(device_lib.list_local_devices())"
   ]
  },
  {
   "cell_type": "code",
   "execution_count": 5,
   "id": "02f30a30",
   "metadata": {},
   "outputs": [],
   "source": [
    "physical_devices = tf.config.experimental.list_physical_devices('GPU')\n",
    "assert len(physical_devices) > 0, \"Not enough GPU hardware devices available\"\n",
    "config = tf.config.experimental.set_memory_growth(physical_devices[0], True)"
   ]
  },
  {
   "cell_type": "code",
   "execution_count": 6,
   "id": "89f3bda6",
   "metadata": {},
   "outputs": [],
   "source": [
    "import os\n",
    "os.environ['TF_FORCE_GPU_ALLOW_GROWTH'] = 'true'\n"
   ]
  },
  {
   "cell_type": "raw",
   "id": "c6a91af8",
   "metadata": {},
   "source": [
    "gpus = tf.config.experimental.list_physical_devices('GPU')\n",
    "if gpus:\n",
    "    try:\n",
    "        # Currently, memory growth needs to be the same across GPUs\n",
    "        for gpu in gpus:\n",
    "            tf.config.experimental.set_memory_growth(gpu, True)\n",
    "            logical_gpus = tf.config.experimental.list_logical_devices('GPU')\n",
    "        print(len(gpus), \"Physical GPUs,\", len(logical_gpus), \"Logical GPUs\")\n",
    "    except RuntimeError as e:\n",
    "        # Memory growth must be set before GPUs have been initialized\n",
    "        print(e)"
   ]
  },
  {
   "cell_type": "code",
   "execution_count": 10,
   "id": "99944227",
   "metadata": {},
   "outputs": [
    {
     "name": "stdout",
     "output_type": "stream",
     "text": [
      "Looking in indexes: https://pypi.org/simple, https://pypi.ngc.nvidia.com\n",
      "Requirement already satisfied: opencv-python in /home/satya/anaconda3/envs/gtsrb1/lib/python3.9/site-packages (4.7.0.68)\n",
      "Requirement already satisfied: matplotlib in /home/satya/anaconda3/envs/gtsrb1/lib/python3.9/site-packages (3.6.3)\n",
      "Requirement already satisfied: sklearn in /home/satya/anaconda3/envs/gtsrb1/lib/python3.9/site-packages (0.0.post1)\n",
      "Requirement already satisfied: keras_tuner in /home/satya/anaconda3/envs/gtsrb1/lib/python3.9/site-packages (1.1.3)\n",
      "Collecting pandas\n",
      "  Downloading pandas-1.5.2-cp39-cp39-manylinux_2_17_x86_64.manylinux2014_x86_64.whl (12.2 MB)\n",
      "\u001b[2K     \u001b[38;2;114;156;31m━━━━━━━━━━━━━━━━━━━━━━━━━━━━━━━━━━━━━━━━\u001b[0m \u001b[32m12.2/12.2 MB\u001b[0m \u001b[31m22.5 MB/s\u001b[0m eta \u001b[36m0:00:00\u001b[0m31m16.9 MB/s\u001b[0m eta \u001b[36m0:00:01\u001b[0m\n",
      "\u001b[?25hRequirement already satisfied: numpy>=1.17.0 in /home/satya/anaconda3/envs/gtsrb1/lib/python3.9/site-packages (from opencv-python) (1.23.5)\n",
      "Requirement already satisfied: pyparsing>=2.2.1 in /home/satya/anaconda3/envs/gtsrb1/lib/python3.9/site-packages (from matplotlib) (3.0.9)\n",
      "Requirement already satisfied: cycler>=0.10 in /home/satya/anaconda3/envs/gtsrb1/lib/python3.9/site-packages (from matplotlib) (0.11.0)\n",
      "Requirement already satisfied: packaging>=20.0 in /home/satya/anaconda3/envs/gtsrb1/lib/python3.9/site-packages (from matplotlib) (22.0)\n",
      "Requirement already satisfied: kiwisolver>=1.0.1 in /home/satya/anaconda3/envs/gtsrb1/lib/python3.9/site-packages (from matplotlib) (1.4.4)\n",
      "Requirement already satisfied: pillow>=6.2.0 in /home/satya/anaconda3/envs/gtsrb1/lib/python3.9/site-packages (from matplotlib) (9.4.0)\n",
      "Requirement already satisfied: contourpy>=1.0.1 in /home/satya/anaconda3/envs/gtsrb1/lib/python3.9/site-packages (from matplotlib) (1.0.7)\n",
      "Requirement already satisfied: fonttools>=4.22.0 in /home/satya/anaconda3/envs/gtsrb1/lib/python3.9/site-packages (from matplotlib) (4.38.0)\n",
      "Requirement already satisfied: python-dateutil>=2.7 in /home/satya/anaconda3/envs/gtsrb1/lib/python3.9/site-packages (from matplotlib) (2.8.2)\n",
      "Requirement already satisfied: tensorboard in /home/satya/anaconda3/envs/gtsrb1/lib/python3.9/site-packages (from keras_tuner) (2.10.0)\n",
      "Requirement already satisfied: requests in /home/satya/anaconda3/envs/gtsrb1/lib/python3.9/site-packages (from keras_tuner) (2.28.1)\n",
      "Requirement already satisfied: kt-legacy in /home/satya/anaconda3/envs/gtsrb1/lib/python3.9/site-packages (from keras_tuner) (1.0.4)\n",
      "Requirement already satisfied: ipython in /home/satya/anaconda3/envs/gtsrb1/lib/python3.9/site-packages (from keras_tuner) (8.7.0)\n",
      "Requirement already satisfied: pytz>=2020.1 in /home/satya/anaconda3/envs/gtsrb1/lib/python3.9/site-packages (from pandas) (2022.7)\n",
      "Requirement already satisfied: six>=1.5 in /home/satya/anaconda3/envs/gtsrb1/lib/python3.9/site-packages (from python-dateutil>=2.7->matplotlib) (1.16.0)\n",
      "Requirement already satisfied: jedi>=0.16 in /home/satya/anaconda3/envs/gtsrb1/lib/python3.9/site-packages (from ipython->keras_tuner) (0.18.1)\n",
      "Requirement already satisfied: backcall in /home/satya/anaconda3/envs/gtsrb1/lib/python3.9/site-packages (from ipython->keras_tuner) (0.2.0)\n",
      "Requirement already satisfied: stack-data in /home/satya/anaconda3/envs/gtsrb1/lib/python3.9/site-packages (from ipython->keras_tuner) (0.2.0)\n",
      "Requirement already satisfied: prompt-toolkit<3.1.0,>=3.0.11 in /home/satya/anaconda3/envs/gtsrb1/lib/python3.9/site-packages (from ipython->keras_tuner) (3.0.36)\n",
      "Requirement already satisfied: pickleshare in /home/satya/anaconda3/envs/gtsrb1/lib/python3.9/site-packages (from ipython->keras_tuner) (0.7.5)\n",
      "Requirement already satisfied: pygments>=2.4.0 in /home/satya/anaconda3/envs/gtsrb1/lib/python3.9/site-packages (from ipython->keras_tuner) (2.11.2)\n",
      "Requirement already satisfied: decorator in /home/satya/anaconda3/envs/gtsrb1/lib/python3.9/site-packages (from ipython->keras_tuner) (5.1.1)\n",
      "Requirement already satisfied: matplotlib-inline in /home/satya/anaconda3/envs/gtsrb1/lib/python3.9/site-packages (from ipython->keras_tuner) (0.1.6)\n",
      "Requirement already satisfied: traitlets>=5 in /home/satya/anaconda3/envs/gtsrb1/lib/python3.9/site-packages (from ipython->keras_tuner) (5.7.1)\n",
      "Requirement already satisfied: pexpect>4.3 in /home/satya/anaconda3/envs/gtsrb1/lib/python3.9/site-packages (from ipython->keras_tuner) (4.8.0)\n",
      "Requirement already satisfied: charset-normalizer<3,>=2 in /home/satya/anaconda3/envs/gtsrb1/lib/python3.9/site-packages (from requests->keras_tuner) (2.0.4)\n",
      "Requirement already satisfied: certifi>=2017.4.17 in /home/satya/anaconda3/envs/gtsrb1/lib/python3.9/site-packages (from requests->keras_tuner) (2022.12.7)\n",
      "Requirement already satisfied: idna<4,>=2.5 in /home/satya/anaconda3/envs/gtsrb1/lib/python3.9/site-packages (from requests->keras_tuner) (3.4)\n",
      "Requirement already satisfied: urllib3<1.27,>=1.21.1 in /home/satya/anaconda3/envs/gtsrb1/lib/python3.9/site-packages (from requests->keras_tuner) (1.26.13)\n",
      "Requirement already satisfied: werkzeug>=1.0.1 in /home/satya/anaconda3/envs/gtsrb1/lib/python3.9/site-packages (from tensorboard->keras_tuner) (2.2.2)\n",
      "Requirement already satisfied: absl-py>=0.4 in /home/satya/anaconda3/envs/gtsrb1/lib/python3.9/site-packages (from tensorboard->keras_tuner) (1.3.0)\n",
      "Requirement already satisfied: setuptools>=41.0.0 in /home/satya/anaconda3/envs/gtsrb1/lib/python3.9/site-packages (from tensorboard->keras_tuner) (65.6.3)\n",
      "Requirement already satisfied: protobuf<3.20,>=3.9.2 in /home/satya/anaconda3/envs/gtsrb1/lib/python3.9/site-packages (from tensorboard->keras_tuner) (3.19.6)\n",
      "Requirement already satisfied: tensorboard-plugin-wit>=1.6.0 in /home/satya/anaconda3/envs/gtsrb1/lib/python3.9/site-packages (from tensorboard->keras_tuner) (1.8.1)\n",
      "Requirement already satisfied: google-auth-oauthlib<0.5,>=0.4.1 in /home/satya/anaconda3/envs/gtsrb1/lib/python3.9/site-packages (from tensorboard->keras_tuner) (0.4.4)\n",
      "Requirement already satisfied: google-auth<3,>=1.6.3 in /home/satya/anaconda3/envs/gtsrb1/lib/python3.9/site-packages (from tensorboard->keras_tuner) (2.6.0)\n",
      "Requirement already satisfied: tensorboard-data-server<0.7.0,>=0.6.0 in /home/satya/anaconda3/envs/gtsrb1/lib/python3.9/site-packages (from tensorboard->keras_tuner) (0.6.1)\n",
      "Requirement already satisfied: wheel>=0.26 in /home/satya/anaconda3/envs/gtsrb1/lib/python3.9/site-packages (from tensorboard->keras_tuner) (0.37.1)\n",
      "Requirement already satisfied: markdown>=2.6.8 in /home/satya/anaconda3/envs/gtsrb1/lib/python3.9/site-packages (from tensorboard->keras_tuner) (3.4.1)\n",
      "Requirement already satisfied: grpcio>=1.24.3 in /home/satya/anaconda3/envs/gtsrb1/lib/python3.9/site-packages (from tensorboard->keras_tuner) (1.42.0)\n",
      "Requirement already satisfied: rsa<5,>=3.1.4 in /home/satya/anaconda3/envs/gtsrb1/lib/python3.9/site-packages (from google-auth<3,>=1.6.3->tensorboard->keras_tuner) (4.7.2)\n",
      "Requirement already satisfied: cachetools<6.0,>=2.0.0 in /home/satya/anaconda3/envs/gtsrb1/lib/python3.9/site-packages (from google-auth<3,>=1.6.3->tensorboard->keras_tuner) (4.2.2)\n",
      "Requirement already satisfied: pyasn1-modules>=0.2.1 in /home/satya/anaconda3/envs/gtsrb1/lib/python3.9/site-packages (from google-auth<3,>=1.6.3->tensorboard->keras_tuner) (0.2.8)\n",
      "Requirement already satisfied: requests-oauthlib>=0.7.0 in /home/satya/anaconda3/envs/gtsrb1/lib/python3.9/site-packages (from google-auth-oauthlib<0.5,>=0.4.1->tensorboard->keras_tuner) (1.3.0)\n",
      "Requirement already satisfied: parso<0.9.0,>=0.8.0 in /home/satya/anaconda3/envs/gtsrb1/lib/python3.9/site-packages (from jedi>=0.16->ipython->keras_tuner) (0.8.3)\n",
      "Requirement already satisfied: importlib-metadata>=4.4 in /home/satya/anaconda3/envs/gtsrb1/lib/python3.9/site-packages (from markdown>=2.6.8->tensorboard->keras_tuner) (4.11.3)\n",
      "Requirement already satisfied: ptyprocess>=0.5 in /home/satya/anaconda3/envs/gtsrb1/lib/python3.9/site-packages (from pexpect>4.3->ipython->keras_tuner) (0.7.0)\n",
      "Requirement already satisfied: wcwidth in /home/satya/anaconda3/envs/gtsrb1/lib/python3.9/site-packages (from prompt-toolkit<3.1.0,>=3.0.11->ipython->keras_tuner) (0.2.5)\n",
      "Requirement already satisfied: MarkupSafe>=2.1.1 in /home/satya/anaconda3/envs/gtsrb1/lib/python3.9/site-packages (from werkzeug>=1.0.1->tensorboard->keras_tuner) (2.1.1)\n",
      "Requirement already satisfied: executing in /home/satya/anaconda3/envs/gtsrb1/lib/python3.9/site-packages (from stack-data->ipython->keras_tuner) (0.8.3)\n",
      "Requirement already satisfied: asttokens in /home/satya/anaconda3/envs/gtsrb1/lib/python3.9/site-packages (from stack-data->ipython->keras_tuner) (2.0.5)\n",
      "Requirement already satisfied: pure-eval in /home/satya/anaconda3/envs/gtsrb1/lib/python3.9/site-packages (from stack-data->ipython->keras_tuner) (0.2.2)\n",
      "Requirement already satisfied: zipp>=0.5 in /home/satya/anaconda3/envs/gtsrb1/lib/python3.9/site-packages (from importlib-metadata>=4.4->markdown>=2.6.8->tensorboard->keras_tuner) (3.11.0)\n",
      "Requirement already satisfied: pyasn1<0.5.0,>=0.4.6 in /home/satya/anaconda3/envs/gtsrb1/lib/python3.9/site-packages (from pyasn1-modules>=0.2.1->google-auth<3,>=1.6.3->tensorboard->keras_tuner) (0.4.8)\n",
      "Requirement already satisfied: oauthlib>=3.0.0 in /home/satya/anaconda3/envs/gtsrb1/lib/python3.9/site-packages (from requests-oauthlib>=0.7.0->google-auth-oauthlib<0.5,>=0.4.1->tensorboard->keras_tuner) (3.2.1)\n"
     ]
    },
    {
     "name": "stdout",
     "output_type": "stream",
     "text": [
      "Installing collected packages: pandas\n",
      "Successfully installed pandas-1.5.2\n"
     ]
    }
   ],
   "source": [
    "!pip install opencv-python matplotlib sklearn keras_tuner pandas"
   ]
  },
  {
   "cell_type": "code",
   "execution_count": 11,
   "id": "32e11c4f",
   "metadata": {},
   "outputs": [],
   "source": [
    "import numpy as np # linear algebra\n",
    "import pandas as pd # data processing, CSV file I/O (e.g. pd.read_csv)\n",
    "import math\n",
    "import h5py\n",
    "import matplotlib.pyplot as plt\n",
    "from matplotlib.pyplot import imread\n",
    "import scipy\n",
    "import cv2\n",
    "from PIL import Image\n",
    "import pandas as pd\n",
    "import tensorflow as tf\n",
    "import tensorflow.keras.layers as tfl\n",
    "from tensorflow.python.framework import ops"
   ]
  },
  {
   "cell_type": "code",
   "execution_count": 12,
   "id": "5d8b90f6",
   "metadata": {},
   "outputs": [
    {
     "name": "stdout",
     "output_type": "stream",
     "text": [
      "Found GPU at: /device:GPU:0\n"
     ]
    },
    {
     "name": "stderr",
     "output_type": "stream",
     "text": [
      "2023-01-16 01:20:16.019981: I tensorflow/compiler/jit/xla_gpu_device.cc:99] Not creating XLA devices, tf_xla_enable_xla_devices not set\n",
      "2023-01-16 01:20:16.020248: I tensorflow/stream_executor/cuda/cuda_gpu_executor.cc:941] successful NUMA node read from SysFS had negative value (-1), but there must be at least one NUMA node, so returning NUMA node zero\n",
      "2023-01-16 01:20:16.020748: I tensorflow/core/common_runtime/gpu/gpu_device.cc:1720] Found device 0 with properties: \n",
      "pciBusID: 0000:01:00.0 name: NVIDIA GeForce RTX 2060 computeCapability: 7.5\n",
      "coreClock: 1.35GHz coreCount: 30 deviceMemorySize: 5.79GiB deviceMemoryBandwidth: 245.91GiB/s\n",
      "2023-01-16 01:20:16.020789: I tensorflow/stream_executor/platform/default/dso_loader.cc:49] Successfully opened dynamic library libcudart.so.10.1\n",
      "2023-01-16 01:20:16.020822: I tensorflow/stream_executor/platform/default/dso_loader.cc:49] Successfully opened dynamic library libcublas.so.10\n",
      "2023-01-16 01:20:16.020843: I tensorflow/stream_executor/platform/default/dso_loader.cc:49] Successfully opened dynamic library libcublasLt.so.10\n",
      "2023-01-16 01:20:16.020865: I tensorflow/stream_executor/platform/default/dso_loader.cc:49] Successfully opened dynamic library libcufft.so.10\n",
      "2023-01-16 01:20:16.020885: I tensorflow/stream_executor/platform/default/dso_loader.cc:49] Successfully opened dynamic library libcurand.so.10\n",
      "2023-01-16 01:20:16.020906: I tensorflow/stream_executor/platform/default/dso_loader.cc:49] Successfully opened dynamic library libcusolver.so.10\n",
      "2023-01-16 01:20:16.020926: I tensorflow/stream_executor/platform/default/dso_loader.cc:49] Successfully opened dynamic library libcusparse.so.10\n",
      "2023-01-16 01:20:16.020947: I tensorflow/stream_executor/platform/default/dso_loader.cc:49] Successfully opened dynamic library libcudnn.so.7\n",
      "2023-01-16 01:20:16.021049: I tensorflow/stream_executor/cuda/cuda_gpu_executor.cc:941] successful NUMA node read from SysFS had negative value (-1), but there must be at least one NUMA node, so returning NUMA node zero\n",
      "2023-01-16 01:20:16.021527: I tensorflow/stream_executor/cuda/cuda_gpu_executor.cc:941] successful NUMA node read from SysFS had negative value (-1), but there must be at least one NUMA node, so returning NUMA node zero\n",
      "2023-01-16 01:20:16.021921: I tensorflow/core/common_runtime/gpu/gpu_device.cc:1862] Adding visible gpu devices: 0\n",
      "2023-01-16 01:20:16.021963: I tensorflow/core/common_runtime/gpu/gpu_device.cc:1261] Device interconnect StreamExecutor with strength 1 edge matrix:\n",
      "2023-01-16 01:20:16.021974: I tensorflow/core/common_runtime/gpu/gpu_device.cc:1267]      0 \n",
      "2023-01-16 01:20:16.021985: I tensorflow/core/common_runtime/gpu/gpu_device.cc:1280] 0:   N \n",
      "2023-01-16 01:20:16.022136: I tensorflow/stream_executor/cuda/cuda_gpu_executor.cc:941] successful NUMA node read from SysFS had negative value (-1), but there must be at least one NUMA node, so returning NUMA node zero\n",
      "2023-01-16 01:20:16.022722: I tensorflow/stream_executor/cuda/cuda_gpu_executor.cc:941] successful NUMA node read from SysFS had negative value (-1), but there must be at least one NUMA node, so returning NUMA node zero\n",
      "2023-01-16 01:20:16.023171: I tensorflow/core/common_runtime/gpu/gpu_device.cc:1406] Created TensorFlow device (/device:GPU:0 with 5357 MB memory) -> physical GPU (device: 0, name: NVIDIA GeForce RTX 2060, pci bus id: 0000:01:00.0, compute capability: 7.5)\n"
     ]
    }
   ],
   "source": [
    "device_name = tf.test.gpu_device_name()\n",
    "if \"GPU\" not in device_name:\n",
    "    print(\"GPU device not found\")\n",
    "print('Found GPU at: {}'.format(device_name))"
   ]
  },
  {
   "cell_type": "code",
   "execution_count": 13,
   "id": "03fc3637",
   "metadata": {},
   "outputs": [],
   "source": [
    "import tensorflow as tf\n",
    "gpus = tf.config.experimental.list_physical_devices('GPU')\n",
    "for gpu in gpus:\n",
    "    tf.config.experimental.set_memory_growth(gpu, True)"
   ]
  },
  {
   "cell_type": "code",
   "execution_count": 14,
   "id": "f5fc06f0",
   "metadata": {},
   "outputs": [],
   "source": [
    "import os\n",
    "# for dirname, _, filenames in os.walk('../input/gtsrb-german-traffic-sign/'):\n",
    "#     for filename in filenames:\n",
    "#         print(os.path.join(dirname, filename))\n",
    "data_dir = '/home/satya/Gtsrb_clf/gtsrb/'\n",
    "train_path = '/home/satya/Gtsrb_clf/gtsrb/Train/'\n",
    "test_path = '/home/satya/Gtsrb_clf/gtsrb/Test/'\n"
   ]
  },
  {
   "cell_type": "code",
   "execution_count": 15,
   "id": "0a6ca283",
   "metadata": {},
   "outputs": [],
   "source": [
    "folders = os.listdir(train_path)\n"
   ]
  },
  {
   "cell_type": "code",
   "execution_count": 16,
   "id": "2bd04ad3",
   "metadata": {},
   "outputs": [
    {
     "data": {
      "text/plain": [
       "<BarContainer object of 43 artists>"
      ]
     },
     "execution_count": 16,
     "metadata": {},
     "output_type": "execute_result"
    },
    {
     "data": {
      "image/png": "[encoded data removed]",
      "text/plain": [
       "<Figure size 2100x1000 with 1 Axes>"
      ]
     },
     "metadata": {},
     "output_type": "display_data"
    }
   ],
   "source": [
    "# Visualization for distribution of classes \n",
    "samples_dict = {} \n",
    "\n",
    "for folder in folders:\n",
    "    images_in_folder = os.listdir(train_path + '/' + folder)\n",
    "    samples_dict[folder] = len(images_in_folder)\n",
    "    \n",
    "plt.figure(figsize=(21,10))  \n",
    "plt.bar(*zip(*samples_dict.items()))\n"
   ]
  },
  {
   "cell_type": "code",
   "execution_count": 17,
   "id": "d6953487",
   "metadata": {},
   "outputs": [
    {
     "name": "stdout",
     "output_type": "stream",
     "text": [
      "(39209, 30, 30, 3) (39209,)\n"
     ]
    }
   ],
   "source": [
    "image_data = []\n",
    "image_labels = []\n",
    "class_num = len(os.listdir(train_path))\n",
    "for i in range(class_num):\n",
    "    path = train_path +'/'+ str(i)\n",
    "    images = os.listdir(path)\n",
    "\n",
    "    for img in images:\n",
    "        try:\n",
    "            #print(path+'/'+img)\n",
    "            image = cv2.imread(path + '/' + img)\n",
    "            image_fromarray = Image.fromarray(image, 'RGB')\n",
    "            resize_image = image_fromarray.resize((30, 30))\n",
    "            image_data.append(np.array(resize_image))\n",
    "            image_labels.append(i)\n",
    "        except:\n",
    "            print(\"Error in \" + img)\n",
    "\n",
    "image_data = np.array(image_data)\n",
    "image_labels = np.array(image_labels)\n",
    "print(image_data.shape, image_labels.shape)"
   ]
  },
  {
   "cell_type": "code",
   "execution_count": 18,
   "id": "fd7e8ca3",
   "metadata": {},
   "outputs": [
    {
     "ename": "ModuleNotFoundError",
     "evalue": "No module named 'sklearn'",
     "output_type": "error",
     "traceback": [
      "\u001b[0;31m---------------------------------------------------------------------------\u001b[0m",
      "\u001b[0;31mModuleNotFoundError\u001b[0m                       Traceback (most recent call last)",
      "Cell \u001b[0;32mIn[18], line 1\u001b[0m\n\u001b[0;32m----> 1\u001b[0m \u001b[38;5;28;01mfrom\u001b[39;00m \u001b[38;5;21;01msklearn\u001b[39;00m\u001b[38;5;21;01m.\u001b[39;00m\u001b[38;5;21;01mmodel_selection\u001b[39;00m \u001b[38;5;28;01mimport\u001b[39;00m train_test_split\n\u001b[1;32m      2\u001b[0m \u001b[38;5;28;01mfrom\u001b[39;00m \u001b[38;5;21;01mtensorflow\u001b[39;00m\u001b[38;5;21;01m.\u001b[39;00m\u001b[38;5;21;01mkeras\u001b[39;00m\u001b[38;5;21;01m.\u001b[39;00m\u001b[38;5;21;01mutils\u001b[39;00m \u001b[38;5;28;01mimport\u001b[39;00m to_categorical\n\u001b[1;32m      4\u001b[0m X_train, X_val, y_train, y_val \u001b[38;5;241m=\u001b[39m train_test_split(image_data, image_labels, test_size\u001b[38;5;241m=\u001b[39m\u001b[38;5;241m0.2\u001b[39m, random_state\u001b[38;5;241m=\u001b[39m\u001b[38;5;241m42\u001b[39m, shuffle\u001b[38;5;241m=\u001b[39m\u001b[38;5;28;01mTrue\u001b[39;00m)\n",
      "\u001b[0;31mModuleNotFoundError\u001b[0m: No module named 'sklearn'"
     ]
    }
   ],
   "source": [
    "from sklearn.model_selection import train_test_split\n",
    "from tensorflow.keras.utils import to_categorical\n",
    "\n",
    "X_train, X_val, y_train, y_val = train_test_split(image_data, image_labels, test_size=0.2, random_state=42, shuffle=True)\n",
    "X_train = X_train/255 \n",
    "X_val = X_val/255\n",
    "\n",
    "y_train = to_categorical(y_train, class_num)\n",
    "y_val = to_categorical(y_val, class_num)\n",
    "\n",
    "print(\"X_train.shape\", X_train.shape)\n",
    "print(\"X_valid.shape\", X_val.shape)\n",
    "print(\"y_train.shape\", y_train.shape)\n",
    "print(\"y_valid.shape\", y_val.shape)\n"
   ]
  },
  {
   "cell_type": "code",
   "execution_count": null,
   "id": "6a36aa54",
   "metadata": {},
   "outputs": [],
   "source": [
    "import keras_tuner as kt\n",
    "from tensorflow.keras.optimizers import Adam\n",
    "from keras_tuner.engine.hyperparameters import HyperParameters\n",
    "hp = HyperParameters()\n",
    "\n",
    "class Model(kt.HyperModel):\n",
    "    def build(self, hp):\n",
    "        model = tf.keras.Sequential([\n",
    "        tfl.Conv2D(\n",
    "            filters=hp.Int('conv_1_filter', min_value=8, max_value=32, step=8), \n",
    "            kernel_size=hp.Choice('conv_1_kernel', values = [3,5]), \n",
    "            activation='relu',\n",
    "            padding='same',\n",
    "            input_shape=(X_train.shape[1:])),\n",
    "        tfl.MaxPool2D(pool_size=hp.Choice('conv_1_pool', values = [2,4])),\n",
    "        \n",
    "        tfl.Conv2D(filters=hp.Int('conv_2_filter', min_value=32, max_value=64, step=16), \n",
    "                   kernel_size=hp.Choice('conv_1_kernel', values = [3,5]), \n",
    "                   activation='relu',\n",
    "                   padding='same'),\n",
    "    #after a Conv2D layer with data_format=\"channels_first\", set axis=1 in BatchNormalization.\n",
    "    #after a Conv2D layer with data_format=\"channels_last\", set axis=-1 in BatchNormalization.\n",
    "        tfl.BatchNormalization(axis=-1),\n",
    "        tfl.Dropout(rate=hp.Float('layer1_drop',min_value=0.0, max_value=0.5)),\n",
    "        \n",
    "    \n",
    "        tfl.Conv2D(filters=hp.Int('conv_3_filter', min_value=64, max_value=128, step=32), \n",
    "                   kernel_size=hp.Choice('conv_1_kernel', values = [3,5]), \n",
    "                   activation='relu',\n",
    "                   padding='same'),\n",
    "        tfl.MaxPool2D(pool_size=hp.Choice('conv_3_pool', values = [2,4])),\n",
    "        tfl.Conv2D(filters=hp.Int('conv_4_filter', min_value=128, max_value=512, step=64), \n",
    "                   kernel_size=hp.Choice('conv_4_kernel', values = [3,5]), \n",
    "                   activation='relu',\n",
    "                   padding='same'),\n",
    "        tfl.BatchNormalization(axis=-1),\n",
    "        tfl.Dropout(rate=hp.Float('layer2_drop',min_value=0.0, max_value=0.5)),\n",
    "    \n",
    "        tfl.Flatten(),\n",
    "        tfl.Dense(512,activation='relu'),\n",
    "        tfl.BatchNormalization(),\n",
    "        tfl.Dropout(rate=hp.Float('layer2_drop',min_value=0.0, max_value=0.5)),\n",
    "    \n",
    "        tfl.Dense(class_num, activation='softmax')\n",
    "        \n",
    "        ])\n",
    "    \n",
    "        model.compile(optimizer=Adam(hp.Choice('learning_rate', values=[1e-2, 1e-3])),\n",
    "              loss='categorical_crossentropy',\n",
    "              metrics=['accuracy'])\n",
    "        return model\n",
    "    # The *args and **kwargs are the ones you passed from tuner.search()\n",
    "    def fit(self, hp, model, *args, **kwargs):\n",
    "        return model.fit(\n",
    "            *args,\n",
    "            batch_size=hp.Choice(\"batch_size\", [8, 16]),\n",
    "            **kwargs,\n",
    "        )\n",
    "\n",
    "tuner_random = kt.Hyperband(\n",
    "    Model(),\n",
    "    objective=\"val_accuracy\")\n",
    "# Using early stopping during training via passing in the tf.keras.callbacks.EarlyStopping callback. \n",
    "# This can be configured to stop your training as soon as the validation loss stops improving\n",
    "# # Will stop training if the \"val_loss\" hasn't improved in 3 epochs.\n",
    "tuner_random.search(X_train,y_train,epochs=30,validation_data=(X_val,y_val), callbacks=[tf.keras.callbacks.EarlyStopping(\"val_loss\", patience=3)])"
   ]
  },
  {
   "cell_type": "code",
   "execution_count": null,
   "id": "0e310878",
   "metadata": {},
   "outputs": [],
   "source": [
    "# # Get the best models.\n",
    "models = tuner_random.get_best_models(num_models=1)\n",
    "best_model = models[0]\n",
    "# Build the model.\n",
    "# Needed for `Sequential` without specified `input_shape`.\n",
    "best_model.build(input_shape=(X_train.shape[1:]))\n",
    "best_model.summary()"
   ]
  },
  {
   "cell_type": "code",
   "execution_count": 12,
   "id": "b5c594c7",
   "metadata": {},
   "outputs": [
    {
     "ename": "NameError",
     "evalue": "name 'tuner_random' is not defined",
     "output_type": "error",
     "traceback": [
      "\u001b[0;31m---------------------------------------------------------------------------\u001b[0m",
      "\u001b[0;31mNameError\u001b[0m                                 Traceback (most recent call last)",
      "\u001b[0;32m/tmp/ipykernel_59325/4004945579.py\u001b[0m in \u001b[0;36m<module>\u001b[0;34m\u001b[0m\n\u001b[0;32m----> 1\u001b[0;31m \u001b[0mtuner_random\u001b[0m\u001b[0;34m.\u001b[0m\u001b[0msearch_space_summary\u001b[0m\u001b[0;34m(\u001b[0m\u001b[0;34m)\u001b[0m\u001b[0;34m\u001b[0m\u001b[0;34m\u001b[0m\u001b[0m\n\u001b[0m",
      "\u001b[0;31mNameError\u001b[0m: name 'tuner_random' is not defined"
     ]
    }
   ],
   "source": [
    "tuner_random.search_space_summary()"
   ]
  },
  {
   "cell_type": "code",
   "execution_count": null,
   "id": "133e1927",
   "metadata": {},
   "outputs": [],
   "source": [
    "# save model\n",
    "best_model.save('best_model')\n",
    "#load \n",
    "model = tf.keras.models.load_model('best_model')"
   ]
  },
  {
   "cell_type": "code",
   "execution_count": null,
   "id": "15d2f1c1",
   "metadata": {},
   "outputs": [],
   "source": []
  }
 ],
 "metadata": {
  "kernelspec": {
   "display_name": "Python 3 (ipykernel)",
   "language": "python",
   "name": "python3"
  },
  "language_info": {
   "codemirror_mode": {
    "name": "ipython",
    "version": 3
   },
   "file_extension": ".py",
   "mimetype": "text/x-python",
   "name": "python",
   "nbconvert_exporter": "python",
   "pygments_lexer": "ipython3",
   "version": "3.8.10"
  }
 },
 "nbformat": 4,
 "nbformat_minor": 5
}
