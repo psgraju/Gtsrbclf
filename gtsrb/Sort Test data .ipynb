{
 "cells": [
  {
   "cell_type": "code",
   "execution_count": 1,
   "id": "66eb399a",
   "metadata": {},
   "outputs": [],
   "source": [
    "import pandas as pd \n",
    "import os"
   ]
  },
  {
   "cell_type": "code",
   "execution_count": 2,
   "id": "c04e2e22",
   "metadata": {},
   "outputs": [],
   "source": [
    "data = pd.read_csv(\"Test.csv\")"
   ]
  },
  {
   "cell_type": "code",
   "execution_count": 3,
   "id": "dfa2858d",
   "metadata": {},
   "outputs": [
    {
     "name": "stdout",
     "output_type": "stream",
     "text": [
      "<class 'pandas.core.frame.DataFrame'>\n",
      "RangeIndex: 12630 entries, 0 to 12629\n",
      "Data columns (total 8 columns):\n",
      " #   Column   Non-Null Count  Dtype \n",
      "---  ------   --------------  ----- \n",
      " 0   Width    12630 non-null  int64 \n",
      " 1   Height   12630 non-null  int64 \n",
      " 2   Roi.X1   12630 non-null  int64 \n",
      " 3   Roi.Y1   12630 non-null  int64 \n",
      " 4   Roi.X2   12630 non-null  int64 \n",
      " 5   Roi.Y2   12630 non-null  int64 \n",
      " 6   ClassId  12630 non-null  int64 \n",
      " 7   Path     12630 non-null  object\n",
      "dtypes: int64(7), object(1)\n",
      "memory usage: 789.5+ KB\n"
     ]
    }
   ],
   "source": [
    "data.info()"
   ]
  },
  {
   "cell_type": "code",
   "execution_count": 5,
   "id": "a9cbbf83",
   "metadata": {},
   "outputs": [],
   "source": [
    "folders = list(set(data['ClassId']))\n",
    "folders = [str(x) for x in folders]"
   ]
  },
  {
   "cell_type": "code",
   "execution_count": 6,
   "id": "c4f65a22",
   "metadata": {},
   "outputs": [
    {
     "name": "stdout",
     "output_type": "stream",
     "text": [
      "'Sort Test data .ipynb'   Test\t Test.csv   test_sorted   Train   Train.csv\r\n"
     ]
    }
   ],
   "source": [
    "#!mkdir test_sorted\n",
    "!ls"
   ]
  },
  {
   "cell_type": "code",
   "execution_count": 10,
   "id": "af4c0568",
   "metadata": {},
   "outputs": [],
   "source": [
    "folder_name = \"test_sorted\"\n",
    "os.chdir(\"/home/satya/gtsrb/data/test_sorted\")\n",
    "for i in folders:\n",
    "    #print(i)\n",
    "    os.mkdir(i)"
   ]
  },
  {
   "cell_type": "code",
   "execution_count": 8,
   "id": "96f78379",
   "metadata": {},
   "outputs": [
    {
     "name": "stdout",
     "output_type": "stream",
     "text": [
      "['0', '1', '2', '3', '4', '5', '6', '7', '8', '9', '10', '11', '12', '13', '14', '15', '16', '17', '18', '19', '20', '21', '22', '23', '24', '25', '26', '27', '28', '29', '30', '31', '32', '33', '34', '35', '36', '37', '38', '39', '40', '41', '42']\n"
     ]
    }
   ],
   "source": [
    "print(folders)"
   ]
  },
  {
   "cell_type": "code",
   "execution_count": 12,
   "id": "1b65db6a",
   "metadata": {},
   "outputs": [],
   "source": [
    "data[['ClassId']] = data[['ClassId']].astype(object)"
   ]
  },
  {
   "cell_type": "code",
   "execution_count": 13,
   "id": "bd2366a3",
   "metadata": {},
   "outputs": [
    {
     "name": "stdout",
     "output_type": "stream",
     "text": [
      "<class 'pandas.core.frame.DataFrame'>\n",
      "RangeIndex: 12630 entries, 0 to 12629\n",
      "Data columns (total 8 columns):\n",
      " #   Column   Non-Null Count  Dtype \n",
      "---  ------   --------------  ----- \n",
      " 0   Width    12630 non-null  int64 \n",
      " 1   Height   12630 non-null  int64 \n",
      " 2   Roi.X1   12630 non-null  int64 \n",
      " 3   Roi.Y1   12630 non-null  int64 \n",
      " 4   Roi.X2   12630 non-null  int64 \n",
      " 5   Roi.Y2   12630 non-null  int64 \n",
      " 6   ClassId  12630 non-null  object\n",
      " 7   Path     12630 non-null  object\n",
      "dtypes: int64(6), object(2)\n",
      "memory usage: 789.5+ KB\n"
     ]
    }
   ],
   "source": [
    "data.info()"
   ]
  },
  {
   "cell_type": "code",
   "execution_count": 18,
   "id": "757eb947",
   "metadata": {},
   "outputs": [],
   "source": [
    "unsorted_dir_path = \"/home/satya/gtsrb/data/Test\"\n",
    "sorted_dir_path = \"/home/satya/gtsrb/data/test_sorted\""
   ]
  },
  {
   "cell_type": "code",
   "execution_count": 16,
   "id": "0bee780c",
   "metadata": {},
   "outputs": [],
   "source": [
    "os.chdir(\"/home/satya/gtsrb/data/\")"
   ]
  },
  {
   "cell_type": "code",
   "execution_count": 28,
   "id": "fa207e3d",
   "metadata": {},
   "outputs": [],
   "source": [
    "for i in range(len(data)):\n",
    "    cmd = cmd = \"cp \" + str(data['Path'][i]) + \" \" + sorted_dir_path + \"/\" +str(data['ClassId'][i])\n",
    "    os.system(cmd)"
   ]
  },
  {
   "cell_type": "code",
   "execution_count": 17,
   "id": "175d474e",
   "metadata": {},
   "outputs": [
    {
     "data": {
      "text/plain": [
       "'Test/00000.png'"
      ]
     },
     "execution_count": 17,
     "metadata": {},
     "output_type": "execute_result"
    }
   ],
   "source": [
    "data['Path'][0]"
   ]
  },
  {
   "cell_type": "code",
   "execution_count": 26,
   "id": "2b22df8a",
   "metadata": {},
   "outputs": [],
   "source": [
    "cmd = \"cp \" + \".\" + str(data['Path'][0]) + \" \" + sorted_dir_path + \"/\" +str(data['ClassId'][0])"
   ]
  },
  {
   "cell_type": "code",
   "execution_count": 27,
   "id": "eb82d588",
   "metadata": {},
   "outputs": [
    {
     "data": {
      "text/plain": [
       "'cp .Test/00000.png /home/satya/gtsrb/data/test_sorted/16'"
      ]
     },
     "execution_count": 27,
     "metadata": {},
     "output_type": "execute_result"
    }
   ],
   "source": [
    "cmd"
   ]
  },
  {
   "cell_type": "code",
   "execution_count": null,
   "id": "fe9deb21",
   "metadata": {},
   "outputs": [],
   "source": []
  }
 ],
 "metadata": {
  "kernelspec": {
   "display_name": "Python 3 (ipykernel)",
   "language": "python",
   "name": "python3"
  },
  "language_info": {
   "codemirror_mode": {
    "name": "ipython",
    "version": 3
   },
   "file_extension": ".py",
   "mimetype": "text/x-python",
   "name": "python",
   "nbconvert_exporter": "python",
   "pygments_lexer": "ipython3",
   "version": "3.8.10"
  }
 },
 "nbformat": 4,
 "nbformat_minor": 5
}
